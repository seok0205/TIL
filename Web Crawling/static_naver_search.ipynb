{
 "cells": [
  {
   "cell_type": "markdown",
   "metadata": {},
   "source": [
    "# 네이버 연관검색어 수집하기"
   ]
  },
  {
   "cell_type": "markdown",
   "metadata": {},
   "source": [
    "## 1. 필요한 라이브러리 설치 및 임포트"
   ]
  },
  {
   "cell_type": "code",
   "execution_count": 1,
   "metadata": {},
   "outputs": [
    {
     "name": "stdout",
     "output_type": "stream",
     "text": [
      "Collecting requests\n",
      "  Using cached requests-2.32.3-py3-none-any.whl.metadata (4.6 kB)\n",
      "Collecting charset-normalizer<4,>=2 (from requests)\n",
      "  Downloading charset_normalizer-3.4.0-cp313-cp313-win_amd64.whl.metadata (34 kB)\n",
      "Collecting idna<4,>=2.5 (from requests)\n",
      "  Using cached idna-3.10-py3-none-any.whl.metadata (10 kB)\n",
      "Collecting urllib3<3,>=1.21.1 (from requests)\n",
      "  Using cached urllib3-2.2.3-py3-none-any.whl.metadata (6.5 kB)\n",
      "Collecting certifi>=2017.4.17 (from requests)\n",
      "  Using cached certifi-2024.8.30-py3-none-any.whl.metadata (2.2 kB)\n",
      "Using cached requests-2.32.3-py3-none-any.whl (64 kB)\n",
      "Using cached certifi-2024.8.30-py3-none-any.whl (167 kB)\n",
      "Downloading charset_normalizer-3.4.0-cp313-cp313-win_amd64.whl (102 kB)\n",
      "Using cached idna-3.10-py3-none-any.whl (70 kB)\n",
      "Using cached urllib3-2.2.3-py3-none-any.whl (126 kB)\n",
      "Installing collected packages: urllib3, idna, charset-normalizer, certifi, requests\n",
      "Successfully installed certifi-2024.8.30 charset-normalizer-3.4.0 idna-3.10 requests-2.32.3 urllib3-2.2.3\n"
     ]
    }
   ],
   "source": [
    "!pip install requests"
   ]
  },
  {
   "cell_type": "code",
   "execution_count": 2,
   "metadata": {},
   "outputs": [],
   "source": [
    "import requests"
   ]
  },
  {
   "cell_type": "markdown",
   "metadata": {},
   "source": [
    "## 2. API 요청에 필요한 기본 정보 설정\n",
    "- 네이버 API에 요청을 보내기 위한 기본 정보를 설정"
   ]
  },
  {
   "cell_type": "code",
   "execution_count": 3,
   "metadata": {},
   "outputs": [],
   "source": [
    "# 네이버 연관검색어 자동 완성 API URL\n",
    "base_url = \"https://ac.search.naver.com/nx/ac\"\n",
    "\n",
    "# 브라우저 정보 설정 (User-Agent)\n",
    "user_agent = \"Mozilla/5.0 (Windows NT 10.0; Win64; x64) AppleWebKit/537.36 (KHTML, like Gecko) Chrome/130.0.0.0 Safari/537.36\"\n",
    "headers = {\n",
    "    'User-Agent': user_agent\n",
    "}\n",
    "\n",
    "# 검색어 설정\n",
    "search_term = \"박은빈\"\n",
    "\n",
    "# API 요청 파라미터 설정\n",
    "params = {\n",
    "    'q': search_term,  # 검색어\n",
    "    'st': 100  # 실제 파라미터 용도는 잘 모름\n",
    "}"
   ]
  },
  {
   "cell_type": "markdown",
   "metadata": {},
   "source": [
    "## 3. API 요청 보내기\n",
    "- 설정한 정보를 바탕으로 API에 요청"
   ]
  },
  {
   "cell_type": "code",
   "execution_count": null,
   "metadata": {},
   "outputs": [
    {
     "name": "stdout",
     "output_type": "stream",
     "text": [
      "응답 상태 코드: 200\n",
      "\n",
      "응답 데이터:\n",
      "{'query': ['박은빈'], 'items': [[['박은빈'], ['박은빈 갤'], ['박은빈 갤러리'], ['박은빈 나무위키'], ['박은빈 아역'], ['박은빈 디시'], ['박은빈 사주'], ['박은빈 노래'], ['박은빈 김민재'], ['박은빈 팬카페']]]}\n"
     ]
    }
   ],
   "source": [
    "try:\n",
    "    # API 요청 보내기\n",
    "    response = requests.get(base_url, params=params, headers=headers)\n",
    "    \n",
    "    # 응답 상태 코드 확인\n",
    "    print(f\"응답 상태 코드: {response.status_code}\")\n",
    "    # 400번대 클라이언트측 오류\n",
    "    # 500번대 서버측 오류\n",
    "    \n",
    "    # JSON 형식의 응답 데이터 확인\n",
    "    data = response.json()  # JSON포맷으로 바꿈.(안바꾸면 문자열)\n",
    "    print(\"\\n응답 데이터:\")\n",
    "    print(data) # 딕셔너리\n",
    "    \n",
    "except requests.exceptions.RequestException as e:\n",
    "    print(f\"에러 발생: {e}\")"
   ]
  },
  {
   "cell_type": "markdown",
   "metadata": {},
   "source": [
    "## 4. 연관검색어 추출하기\n",
    "- 응답 데이터에서 연관검색어만 추출"
   ]
  },
  {
   "cell_type": "code",
   "execution_count": 5,
   "metadata": {},
   "outputs": [
    {
     "name": "stdout",
     "output_type": "stream",
     "text": [
      "\n",
      "'박은빈'의 연관검색어:\n",
      "1. 박은빈\n",
      "2. 박은빈 갤\n",
      "3. 박은빈 갤러리\n",
      "4. 박은빈 나무위키\n",
      "5. 박은빈 아역\n",
      "6. 박은빈 디시\n",
      "7. 박은빈 사주\n",
      "8. 박은빈 노래\n",
      "9. 박은빈 김민재\n",
      "10. 박은빈 팬카페\n"
     ]
    }
   ],
   "source": [
    "# 연관검색어 리스트 추출\n",
    "related_searches = [item[0] for item in data['items'][0]]\n",
    "\n",
    "# 결과 출력\n",
    "print(f\"\\n'{search_term}'의 연관검색어:\")\n",
    "for i, term in enumerate(related_searches, 1):\n",
    "    print(f\"{i}. {term}\")"
   ]
  },
  {
   "cell_type": "markdown",
   "metadata": {},
   "source": [
    "## 5. 재사용성을 위한 함수화 및 완성 코드"
   ]
  },
  {
   "cell_type": "code",
   "execution_count": 6,
   "metadata": {},
   "outputs": [],
   "source": [
    "import requests\n",
    "\n",
    "def get_related_searches(search_term):\n",
    "    \"\"\"\n",
    "    네이버 연관검색어를 가져오는 함수\n",
    "    Args:\n",
    "        search_term (str): 검색하고자 하는 단어\n",
    "    Returns:\n",
    "        list: 연관검색어 리스트\n",
    "    \"\"\"\n",
    "\n",
    "    #사용자 User-Agent \n",
    "    user_agent = \"Mozilla/5.0 (Windows NT 10.0; Win64; x64) AppleWebKit/537.36 (KHTML, like Gecko) Chrome/120.0.0.0 Safari/537.36\"\n",
    "    headers =  {\n",
    "        'User-Agent': user_agent\n",
    "    }\n",
    "\n",
    "    # 네이버 자동완성 API URL\n",
    "    base_url = \"https://ac.search.naver.com/nx/ac\"\n",
    "    \n",
    "    # 검색어를 URL 인코딩하여 파라미터 구성\n",
    "    params = {\n",
    "        'q': search_term,\n",
    "        'st': 100\n",
    "    }\n",
    "    \n",
    "    try:\n",
    "        # API 요청\n",
    "        response = requests.get(base_url, params=params, headers=headers)\n",
    "\n",
    "        # JSON 응답 파싱\n",
    "        data = response.json()\n",
    "        print(data)\n",
    "        # 연관검색어 추출 (items[0]의 각 항목의 첫번째 요소)\n",
    "        related_searches = [item[0] for item in data['items'][0]]\n",
    "        return related_searches\n",
    "        \n",
    "    except requests.exceptions.RequestException as e:\n",
    "        print(f\"에러 발생: {e}\")\n",
    "        return []"
   ]
  },
  {
   "cell_type": "code",
   "execution_count": 8,
   "metadata": {},
   "outputs": [
    {
     "name": "stdout",
     "output_type": "stream",
     "text": [
      "<< 네이버 연관 검색어 가져오기 >>\n",
      "{'query': ['손흥민'], 'items': [[['손흥민'], ['손흥민 이적'], ['손흥민 바르셀로나'], ['손흥민 재계약'], ['손흥민 경기일정'], ['손흥민 연봉'], ['손흥민 문가영'], ['손흥민 부상'], ['손흥민 나무위키'], ['손흥민 유니폼']]]}\n",
      "\n",
      "연관검색어:\n",
      "1. 손흥민\n",
      "2. 손흥민 이적\n",
      "3. 손흥민 바르셀로나\n",
      "4. 손흥민 재계약\n",
      "5. 손흥민 경기일정\n",
      "6. 손흥민 연봉\n",
      "7. 손흥민 문가영\n",
      "8. 손흥민 부상\n",
      "9. 손흥민 나무위키\n",
      "10. 손흥민 유니폼\n"
     ]
    }
   ],
   "source": [
    "print(\"<< 네이버 연관 검색어 가져오기 >>\")\n",
    "search_term = \"손흥민\"\n",
    "\n",
    "# 연관검색어 가져오기\n",
    "related_terms = get_related_searches(search_term)\n",
    "\n",
    "# 결과 출력\n",
    "if related_terms:\n",
    "    print(\"\\n연관검색어:\")\n",
    "    for i, term in enumerate(related_terms, 1):\n",
    "        print(f\"{i}. {term}\")\n",
    "else:\n",
    "    print(\"연관검색어를 가져오는데 실패했습니다.\")"
   ]
  }
 ],
 "metadata": {
  "kernelspec": {
   "display_name": "Seok",
   "language": "python",
   "name": "seok"
  },
  "language_info": {
   "codemirror_mode": {
    "name": "ipython",
    "version": 3
   },
   "file_extension": ".py",
   "mimetype": "text/x-python",
   "name": "python",
   "nbconvert_exporter": "python",
   "pygments_lexer": "ipython3",
   "version": "3.11.1"
  }
 },
 "nbformat": 4,
 "nbformat_minor": 2
}
