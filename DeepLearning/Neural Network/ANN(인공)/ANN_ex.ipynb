{
 "cells": [
  {
   "cell_type": "code",
   "execution_count": 2,
   "metadata": {},
   "outputs": [],
   "source": [
    "import torch\n",
    "import torch.nn as nn\n",
    "import torch.optim as optim\n",
    "import torchvision\n",
    "import torchvision.transforms as transforms"
   ]
  },
  {
   "cell_type": "code",
   "execution_count": 3,
   "metadata": {},
   "outputs": [
    {
     "name": "stdout",
     "output_type": "stream",
     "text": [
      "Downloading http://yann.lecun.com/exdb/mnist/train-images-idx3-ubyte.gz\n",
      "Failed to download (trying next):\n",
      "<urlopen error [SSL: CERTIFICATE_VERIFY_FAILED] certificate verify failed: certificate has expired (_ssl.c:992)>\n",
      "\n",
      "Downloading https://ossci-datasets.s3.amazonaws.com/mnist/train-images-idx3-ubyte.gz\n",
      "Downloading https://ossci-datasets.s3.amazonaws.com/mnist/train-images-idx3-ubyte.gz to ./data\\MNIST\\raw\\train-images-idx3-ubyte.gz\n"
     ]
    },
    {
     "name": "stderr",
     "output_type": "stream",
     "text": [
      "100%|██████████| 9.91M/9.91M [00:09<00:00, 1.00MB/s]\n"
     ]
    },
    {
     "name": "stdout",
     "output_type": "stream",
     "text": [
      "Extracting ./data\\MNIST\\raw\\train-images-idx3-ubyte.gz to ./data\\MNIST\\raw\n",
      "\n",
      "Downloading http://yann.lecun.com/exdb/mnist/train-labels-idx1-ubyte.gz\n",
      "Failed to download (trying next):\n",
      "<urlopen error [SSL: CERTIFICATE_VERIFY_FAILED] certificate verify failed: certificate has expired (_ssl.c:992)>\n",
      "\n",
      "Downloading https://ossci-datasets.s3.amazonaws.com/mnist/train-labels-idx1-ubyte.gz\n",
      "Downloading https://ossci-datasets.s3.amazonaws.com/mnist/train-labels-idx1-ubyte.gz to ./data\\MNIST\\raw\\train-labels-idx1-ubyte.gz\n"
     ]
    },
    {
     "name": "stderr",
     "output_type": "stream",
     "text": [
      "100%|██████████| 28.9k/28.9k [00:00<00:00, 128kB/s]\n"
     ]
    },
    {
     "name": "stdout",
     "output_type": "stream",
     "text": [
      "Extracting ./data\\MNIST\\raw\\train-labels-idx1-ubyte.gz to ./data\\MNIST\\raw\n",
      "\n",
      "Downloading http://yann.lecun.com/exdb/mnist/t10k-images-idx3-ubyte.gz\n",
      "Failed to download (trying next):\n",
      "<urlopen error [SSL: CERTIFICATE_VERIFY_FAILED] certificate verify failed: certificate has expired (_ssl.c:992)>\n",
      "\n",
      "Downloading https://ossci-datasets.s3.amazonaws.com/mnist/t10k-images-idx3-ubyte.gz\n",
      "Downloading https://ossci-datasets.s3.amazonaws.com/mnist/t10k-images-idx3-ubyte.gz to ./data\\MNIST\\raw\\t10k-images-idx3-ubyte.gz\n"
     ]
    },
    {
     "name": "stderr",
     "output_type": "stream",
     "text": [
      "100%|██████████| 1.65M/1.65M [00:01<00:00, 1.17MB/s]\n"
     ]
    },
    {
     "name": "stdout",
     "output_type": "stream",
     "text": [
      "Extracting ./data\\MNIST\\raw\\t10k-images-idx3-ubyte.gz to ./data\\MNIST\\raw\n",
      "\n",
      "Downloading http://yann.lecun.com/exdb/mnist/t10k-labels-idx1-ubyte.gz\n",
      "Failed to download (trying next):\n",
      "<urlopen error [SSL: CERTIFICATE_VERIFY_FAILED] certificate verify failed: certificate has expired (_ssl.c:992)>\n",
      "\n",
      "Downloading https://ossci-datasets.s3.amazonaws.com/mnist/t10k-labels-idx1-ubyte.gz\n",
      "Downloading https://ossci-datasets.s3.amazonaws.com/mnist/t10k-labels-idx1-ubyte.gz to ./data\\MNIST\\raw\\t10k-labels-idx1-ubyte.gz\n"
     ]
    },
    {
     "name": "stderr",
     "output_type": "stream",
     "text": [
      "100%|██████████| 4.54k/4.54k [00:00<00:00, 4.54MB/s]"
     ]
    },
    {
     "name": "stdout",
     "output_type": "stream",
     "text": [
      "Extracting ./data\\MNIST\\raw\\t10k-labels-idx1-ubyte.gz to ./data\\MNIST\\raw\n",
      "\n"
     ]
    },
    {
     "name": "stderr",
     "output_type": "stream",
     "text": [
      "\n"
     ]
    }
   ],
   "source": [
    "#데이터셋 전처리\n",
    "transform = transforms.Compose([\n",
    "    transforms.ToTensor(),\n",
    "    transforms.Normalize((0.5,), (0.5,))\n",
    "])\n",
    "\n",
    "#MNIST 데이터셋 로드\n",
    "trainset = torchvision.datasets.MNIST(root='./data', train=True, download=True, transform=transform)\n",
    "trainloader = torch.utils.data.DataLoader(trainset, batch_size=64, shuffle=True)\n",
    "\n",
    "testset = torchvision.datasets.MNIST(root='./data', train=False, download=True, transform=transform)\n",
    "testloader = torch.utils.data.DataLoader(testset, batch_size=64, shuffle=False)"
   ]
  },
  {
   "cell_type": "code",
   "execution_count": 4,
   "metadata": {},
   "outputs": [],
   "source": [
    "class SimpleANN(nn.Module):\n",
    "    def __init__(self):\n",
    "        super(SimpleANN, self).__init__()\n",
    "        self.fc1 = nn.Linear(28 * 28, 128)  #입력층에서 은닉층으로\n",
    "        self.fc2 = nn.Linear(128, 64)       #은닉층에서 은닉층으로\n",
    "        self.fc3 = nn.Linear(64, 10)        #은닉층에서 출력층으로\n",
    "\n",
    "    def forward(self, x):\n",
    "        x = x.view(-1, 28 * 28)  #입력 이미지를 1차원 벡터로 변환\n",
    "        x = torch.relu(self.fc1(x))\n",
    "        x = torch.relu(self.fc2(x))\n",
    "        x = self.fc3(x)\n",
    "        return x"
   ]
  },
  {
   "cell_type": "markdown",
   "metadata": {},
   "source": [
    "nn.Module : 모든 신경망 모듈의 기본 클래스, 사용자 정의 신경망은 이 클래스를 상속받음.  \n",
    "nn.Linear(in_features, out_features) : 선형 변환을 적용하는 완전 연결 레이어를 정의.  \n",
    "view : 텐서의 크기 변경.  \n",
    "torch.relu() : ReLU 활성화 함수를 적용한다.  "
   ]
  },
  {
   "cell_type": "code",
   "execution_count": 5,
   "metadata": {},
   "outputs": [
    {
     "name": "stdout",
     "output_type": "stream",
     "text": [
      "[Epoch 1, Batch 100] loss: 1.317\n",
      "[Epoch 1, Batch 200] loss: 0.491\n",
      "[Epoch 1, Batch 300] loss: 0.392\n",
      "[Epoch 1, Batch 400] loss: 0.333\n",
      "[Epoch 1, Batch 500] loss: 0.314\n",
      "[Epoch 1, Batch 600] loss: 0.293\n",
      "[Epoch 1, Batch 700] loss: 0.287\n",
      "[Epoch 1, Batch 800] loss: 0.254\n",
      "[Epoch 1, Batch 900] loss: 0.224\n",
      "[Epoch 2, Batch 100] loss: 0.210\n",
      "[Epoch 2, Batch 200] loss: 0.201\n",
      "[Epoch 2, Batch 300] loss: 0.177\n",
      "[Epoch 2, Batch 400] loss: 0.182\n",
      "[Epoch 2, Batch 500] loss: 0.181\n",
      "[Epoch 2, Batch 600] loss: 0.173\n",
      "[Epoch 2, Batch 700] loss: 0.168\n",
      "[Epoch 2, Batch 800] loss: 0.163\n",
      "[Epoch 2, Batch 900] loss: 0.173\n",
      "[Epoch 3, Batch 100] loss: 0.140\n",
      "[Epoch 3, Batch 200] loss: 0.128\n",
      "[Epoch 3, Batch 300] loss: 0.146\n",
      "[Epoch 3, Batch 400] loss: 0.127\n",
      "[Epoch 3, Batch 500] loss: 0.131\n",
      "[Epoch 3, Batch 600] loss: 0.121\n",
      "[Epoch 3, Batch 700] loss: 0.129\n",
      "[Epoch 3, Batch 800] loss: 0.129\n",
      "[Epoch 3, Batch 900] loss: 0.129\n",
      "[Epoch 4, Batch 100] loss: 0.111\n",
      "[Epoch 4, Batch 200] loss: 0.104\n",
      "[Epoch 4, Batch 300] loss: 0.105\n",
      "[Epoch 4, Batch 400] loss: 0.110\n",
      "[Epoch 4, Batch 500] loss: 0.109\n",
      "[Epoch 4, Batch 600] loss: 0.108\n",
      "[Epoch 4, Batch 700] loss: 0.106\n",
      "[Epoch 4, Batch 800] loss: 0.090\n",
      "[Epoch 4, Batch 900] loss: 0.094\n",
      "[Epoch 5, Batch 100] loss: 0.092\n",
      "[Epoch 5, Batch 200] loss: 0.097\n",
      "[Epoch 5, Batch 300] loss: 0.086\n",
      "[Epoch 5, Batch 400] loss: 0.087\n",
      "[Epoch 5, Batch 500] loss: 0.091\n",
      "[Epoch 5, Batch 600] loss: 0.090\n",
      "[Epoch 5, Batch 700] loss: 0.077\n",
      "[Epoch 5, Batch 800] loss: 0.079\n",
      "[Epoch 5, Batch 900] loss: 0.088\n",
      "[Epoch 6, Batch 100] loss: 0.077\n",
      "[Epoch 6, Batch 200] loss: 0.069\n",
      "[Epoch 6, Batch 300] loss: 0.077\n",
      "[Epoch 6, Batch 400] loss: 0.066\n",
      "[Epoch 6, Batch 500] loss: 0.075\n",
      "[Epoch 6, Batch 600] loss: 0.080\n",
      "[Epoch 6, Batch 700] loss: 0.099\n",
      "[Epoch 6, Batch 800] loss: 0.079\n",
      "[Epoch 6, Batch 900] loss: 0.076\n",
      "[Epoch 7, Batch 100] loss: 0.071\n",
      "[Epoch 7, Batch 200] loss: 0.062\n",
      "[Epoch 7, Batch 300] loss: 0.059\n",
      "[Epoch 7, Batch 400] loss: 0.073\n",
      "[Epoch 7, Batch 500] loss: 0.072\n",
      "[Epoch 7, Batch 600] loss: 0.066\n",
      "[Epoch 7, Batch 700] loss: 0.073\n",
      "[Epoch 7, Batch 800] loss: 0.066\n",
      "[Epoch 7, Batch 900] loss: 0.068\n",
      "[Epoch 8, Batch 100] loss: 0.063\n",
      "[Epoch 8, Batch 200] loss: 0.050\n",
      "[Epoch 8, Batch 300] loss: 0.056\n",
      "[Epoch 8, Batch 400] loss: 0.057\n",
      "[Epoch 8, Batch 500] loss: 0.058\n",
      "[Epoch 8, Batch 600] loss: 0.057\n",
      "[Epoch 8, Batch 700] loss: 0.057\n",
      "[Epoch 8, Batch 800] loss: 0.062\n",
      "[Epoch 8, Batch 900] loss: 0.054\n",
      "[Epoch 9, Batch 100] loss: 0.049\n",
      "[Epoch 9, Batch 200] loss: 0.049\n",
      "[Epoch 9, Batch 300] loss: 0.053\n",
      "[Epoch 9, Batch 400] loss: 0.060\n",
      "[Epoch 9, Batch 500] loss: 0.049\n",
      "[Epoch 9, Batch 600] loss: 0.055\n",
      "[Epoch 9, Batch 700] loss: 0.054\n",
      "[Epoch 9, Batch 800] loss: 0.053\n",
      "[Epoch 9, Batch 900] loss: 0.053\n",
      "[Epoch 10, Batch 100] loss: 0.044\n",
      "[Epoch 10, Batch 200] loss: 0.039\n",
      "[Epoch 10, Batch 300] loss: 0.045\n",
      "[Epoch 10, Batch 400] loss: 0.047\n",
      "[Epoch 10, Batch 500] loss: 0.050\n",
      "[Epoch 10, Batch 600] loss: 0.046\n",
      "[Epoch 10, Batch 700] loss: 0.050\n",
      "[Epoch 10, Batch 800] loss: 0.054\n",
      "[Epoch 10, Batch 900] loss: 0.044\n",
      "Finished Training\n"
     ]
    }
   ],
   "source": [
    "#모델 초기화\n",
    "model = SimpleANN()\n",
    "\n",
    "#손실 함수와 최적화 알고리즘 정의\n",
    "criterion = nn.CrossEntropyLoss()\n",
    "optimizer = optim.SGD(model.parameters(), lr=0.01, momentum=0.9)    #lr = 학습률, momentum = 모멘텀 값\n",
    "\n",
    "#모델 학습\n",
    "for epoch in range(10):  # 10 에포크 동안 학습\n",
    "    running_loss = 0.0\n",
    "    for i, data in enumerate(trainloader, 0):\n",
    "        inputs, labels = data\n",
    "\n",
    "        #기울기 초기화\n",
    "        optimizer.zero_grad()\n",
    "\n",
    "        #순전파 + 역전파 + 최적화\n",
    "        outputs = model(inputs)\n",
    "        loss = criterion(outputs, labels)\n",
    "        loss.backward()\n",
    "        optimizer.step()\n",
    "\n",
    "        #손실 출력\n",
    "        running_loss += loss.item()\n",
    "        if i % 100 == 99:  # 매 100 미니배치마다 출력\n",
    "            print(f'[Epoch {epoch + 1}, Batch {i + 1}] loss: {running_loss / 100:.3f}')\n",
    "            running_loss = 0.0\n",
    "\n",
    "print('Finished Training')"
   ]
  },
  {
   "cell_type": "markdown",
   "metadata": {},
   "source": [
    "nn.CrossEntropyLoss : 다중 클래스 분류 문제에서 주로 사용되는 손실 함수. 예측 값과 실제 값 사이의 교차 엔트로피 손실을 계산.  \n",
    "optim.SGD : 확률적 경사 하강법(Stochastic Gradient Descent) 최적화 알고리즘 정의.  \n",
    "optimizer.zero_grad() : 이전 단계에서 계산된 기울기 초기화.  \n",
    "loss.backward() : 역전파를 통해 기울기 계산.\n",
    "optimizer.step() : 계산된 기울기를 바탕으로 가중치 업데이트."
   ]
  },
  {
   "cell_type": "code",
   "execution_count": 6,
   "metadata": {},
   "outputs": [
    {
     "name": "stdout",
     "output_type": "stream",
     "text": [
      "Accuracy of the network on the 10000 test images: 97.24%\n"
     ]
    }
   ],
   "source": [
    "correct = 0\n",
    "total = 0\n",
    "with torch.no_grad():\n",
    "    for data in testloader:\n",
    "        images, labels = data\n",
    "        outputs = model(images)\n",
    "        _, predicted = torch.max(outputs.data, 1)\n",
    "        total += labels.size(0)\n",
    "        correct += (predicted == labels).sum().item()\n",
    "\n",
    "print(f'Accuracy of the network on the 10000 test images: {100 * correct / total:.2f}%')"
   ]
  },
  {
   "cell_type": "markdown",
   "metadata": {},
   "source": [
    "torch.no_grad() : 평가 단계에서는 기울기 계산 필요가 없음. torch를 비활성화하여 메모리 사용 감소.  \n",
    "torch.max(outputs.data, 1) : 텐서의 최대 값을 찾는다.(각 샘플에 대해 가장 높은 확률을 가진 클래스 반환)  \n",
    "labels.size(0) : 배치 크기를 반환\n",
    "(predicted == labels).sum().item() : 예측 값, 실제 값 일치하는 샘플 수 계산."
   ]
  }
 ],
 "metadata": {
  "kernelspec": {
   "display_name": "Seok",
   "language": "python",
   "name": "seok"
  },
  "language_info": {
   "codemirror_mode": {
    "name": "ipython",
    "version": 3
   },
   "file_extension": ".py",
   "mimetype": "text/x-python",
   "name": "python",
   "nbconvert_exporter": "python",
   "pygments_lexer": "ipython3",
   "version": "3.11.1"
  }
 },
 "nbformat": 4,
 "nbformat_minor": 2
}
