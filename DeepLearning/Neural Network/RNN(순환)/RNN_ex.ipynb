{
 "cells": [
  {
   "cell_type": "code",
   "execution_count": 1,
   "metadata": {},
   "outputs": [],
   "source": [
    "import torch\n",
    "import torch.nn as nn\n",
    "import torch.optim as optim\n",
    "import numpy as np\n",
    "import matplotlib.pyplot as plt"
   ]
  },
  {
   "cell_type": "code",
   "execution_count": 2,
   "metadata": {},
   "outputs": [],
   "source": [
    "# Sine 파형 데이터 생성\n",
    "def create_sine_wave_data(seq_length, num_samples):\n",
    "    X = []\n",
    "    y = []\n",
    "    for _ in range(num_samples):\n",
    "        start = np.random.rand()\n",
    "        x = np.linspace(start, start + 2 * np.pi, seq_length)\n",
    "        X.append(np.sin(x))\n",
    "        y.append(np.sin(x + 0.1))\n",
    "    return np.array(X), np.array(y)\n",
    "\n",
    "seq_length = 50\n",
    "num_samples = 1000\n",
    "X, y = create_sine_wave_data(seq_length, num_samples)\n",
    "\n",
    "# 데이터셋을 PyTorch 텐서로 변환\n",
    "X = torch.tensor(X, dtype=torch.float32).unsqueeze(-1)\n",
    "y = torch.tensor(y, dtype=torch.float32).unsqueeze(-1)"
   ]
  },
  {
   "cell_type": "code",
   "execution_count": 4,
   "metadata": {},
   "outputs": [],
   "source": [
    "class SimpleRNN(nn.Module):\n",
    "    def __init__(self, input_size, hidden_size, output_size):\n",
    "        super(SimpleRNN, self).__init__()\n",
    "        self.rnn = nn.RNN(input_size, hidden_size, batch_first=True)\n",
    "        self.fc = nn.Linear(hidden_size, output_size)\n",
    "\n",
    "    def forward(self, x):\n",
    "        h0 = torch.zeros(1, x.size(0), hidden_size)  # 초기 은닉 상태\n",
    "        out, _ = self.rnn(x, h0)\n",
    "        out = self.fc(out)\n",
    "        return out\n",
    "\n",
    "input_size = 1\n",
    "hidden_size = 32\n",
    "output_size = 1\n",
    "model = SimpleRNN(input_size, hidden_size, output_size)"
   ]
  },
  {
   "cell_type": "code",
   "execution_count": 5,
   "metadata": {},
   "outputs": [],
   "source": [
    "class SimpleLSTM(nn.Module):\n",
    "    def __init__(self, input_size, hidden_size, output_size):\n",
    "        super(SimpleLSTM, self).__init__()\n",
    "        self.lstm = nn.LSTM(input_size, hidden_size, batch_first=True)\n",
    "        self.fc = nn.Linear(hidden_size, output_size)\n",
    "\n",
    "    def forward(self, x):\n",
    "        h0 = torch.zeros(1, x.size(0), hidden_size)  # 초기 은닉 상태\n",
    "        c0 = torch.zeros(1, x.size(0), hidden_size)  # 초기 셀 상태\n",
    "        out, _ = self.lstm(x, (h0, c0))\n",
    "        out = self.fc(out)\n",
    "        return out\n",
    "\n",
    "model = SimpleLSTM(input_size, hidden_size, output_size)"
   ]
  },
  {
   "cell_type": "code",
   "execution_count": 6,
   "metadata": {},
   "outputs": [
    {
     "name": "stdout",
     "output_type": "stream",
     "text": [
      "Epoch [10/100], Loss: 0.0730\n",
      "Epoch [20/100], Loss: 0.0211\n",
      "Epoch [30/100], Loss: 0.0069\n",
      "Epoch [40/100], Loss: 0.0055\n",
      "Epoch [50/100], Loss: 0.0038\n",
      "Epoch [60/100], Loss: 0.0032\n",
      "Epoch [70/100], Loss: 0.0027\n",
      "Epoch [80/100], Loss: 0.0024\n",
      "Epoch [90/100], Loss: 0.0020\n",
      "Epoch [100/100], Loss: 0.0018\n",
      "Finished Training\n"
     ]
    }
   ],
   "source": [
    "# 손실 함수와 최적화 알고리즘 정의\n",
    "criterion = nn.MSELoss()\n",
    "optimizer = optim.Adam(model.parameters(), lr=0.01)\n",
    "\n",
    "# 모델 학습\n",
    "num_epochs = 100\n",
    "for epoch in range(num_epochs):\n",
    "    outputs = model(X)\n",
    "    optimizer.zero_grad()\n",
    "    loss = criterion(outputs, y)\n",
    "    loss.backward()\n",
    "    optimizer.step()\n",
    "\n",
    "    if (epoch + 1) % 10 == 0:\n",
    "        print(f'Epoch [{epoch + 1}/{num_epochs}], Loss: {loss.item():.4f}')\n",
    "\n",
    "print('Finished Training')"
   ]
  },
  {
   "cell_type": "code",
   "execution_count": 7,
   "metadata": {},
   "outputs": [
    {
     "data": {
      "image/png": "[encoded data removed]",
      "text/plain": [
       "<Figure size 1000x500 with 1 Axes>"
      ]
     },
     "metadata": {},
     "output_type": "display_data"
    }
   ],
   "source": [
    "# 모델 평가\n",
    "model.eval()\n",
    "with torch.no_grad():\n",
    "    predicted = model(X).detach().numpy()\n",
    "\n",
    "# 시각화\n",
    "plt.figure(figsize=(10, 5))\n",
    "plt.plot(y.numpy().flatten(), label='True')\n",
    "plt.plot(predicted.flatten(), label='Predicted')\n",
    "plt.legend()\n",
    "plt.show()"
   ]
  }
 ],
 "metadata": {
  "kernelspec": {
   "display_name": "Seok",
   "language": "python",
   "name": "seok"
  },
  "language_info": {
   "codemirror_mode": {
    "name": "ipython",
    "version": 3
   },
   "file_extension": ".py",
   "mimetype": "text/x-python",
   "name": "python",
   "nbconvert_exporter": "python",
   "pygments_lexer": "ipython3",
   "version": "3.11.1"
  }
 },
 "nbformat": 4,
 "nbformat_minor": 2
}
