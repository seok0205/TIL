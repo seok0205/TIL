{
 "cells": [
  {
   "cell_type": "code",
   "execution_count": 1,
   "metadata": {},
   "outputs": [],
   "source": [
    "import torch\n",
    "import torch.nn as nn\n",
    "import torch.optim as optim\n",
    "import torchvision\n",
    "import torchvision.transforms as transforms"
   ]
  },
  {
   "cell_type": "code",
   "execution_count": 2,
   "metadata": {},
   "outputs": [
    {
     "name": "stdout",
     "output_type": "stream",
     "text": [
      "Downloading https://www.cs.toronto.edu/~kriz/cifar-10-python.tar.gz to ./data\\cifar-10-python.tar.gz\n"
     ]
    },
    {
     "name": "stderr",
     "output_type": "stream",
     "text": [
      "100%|██████████| 170M/170M [01:18<00:00, 2.16MB/s] \n"
     ]
    },
    {
     "name": "stdout",
     "output_type": "stream",
     "text": [
      "Extracting ./data\\cifar-10-python.tar.gz to ./data\n",
      "Files already downloaded and verified\n"
     ]
    }
   ],
   "source": [
    "# 데이터셋 전처리\n",
    "transform = transforms.Compose([\n",
    "    transforms.ToTensor(),\n",
    "    transforms.Normalize((0.5, 0.5, 0.5), (0.5, 0.5, 0.5))\n",
    "])\n",
    "\n",
    "# CIFAR-10 데이터셋 로드\n",
    "trainset = torchvision.datasets.CIFAR10(root='./data', train=True, download=True, transform=transform)\n",
    "trainloader = torch.utils.data.DataLoader(trainset, batch_size=64, shuffle=True)\n",
    "\n",
    "testset = torchvision.datasets.CIFAR10(root='./data', train=False, download=True, transform=transform)\n",
    "testloader = torch.utils.data.DataLoader(testset, batch_size=64, shuffle=False)"
   ]
  },
  {
   "cell_type": "code",
   "execution_count": 3,
   "metadata": {},
   "outputs": [],
   "source": [
    "class SimpleCNN(nn.Module):\n",
    "    def __init__(self):\n",
    "        super(SimpleCNN, self).__init__()\n",
    "        self.conv1 = nn.Conv2d(3, 32, 3, padding=1)  #입력 채널 3, 출력 채널 32, 커널 크기 3x3\n",
    "        self.pool = nn.MaxPool2d(2, 2)               #풀링 크기 2x2\n",
    "        self.conv2 = nn.Conv2d(32, 64, 3, padding=1) #입력 채널 32, 출력 채널 64, 커널 크기 3x3\n",
    "        self.fc1 = nn.Linear(64 * 8 * 8, 512)        #완전 연결 층\n",
    "        self.fc2 = nn.Linear(512, 10)                #출력 층 (10개의 클래스)\n",
    "\n",
    "    def forward(self, x):\n",
    "        x = self.pool(torch.relu(self.conv1(x)))\n",
    "        x = self.pool(torch.relu(self.conv2(x)))\n",
    "        x = x.view(-1, 64 * 8 * 8)  # 플래튼\n",
    "        x = torch.relu(self.fc1(x))\n",
    "        x = self.fc2(x)\n",
    "        return x"
   ]
  },
  {
   "cell_type": "markdown",
   "metadata": {},
   "source": [
    "nn.Conv2d(in_channels, out_channels, kernel_size, padding) : 2차원 합성곱 층을 정의  \n",
    "nn.MaxPool2d(kernel_size, stride) : 2차원 최대 풀링 층을 정의  "
   ]
  },
  {
   "cell_type": "code",
   "execution_count": 4,
   "metadata": {},
   "outputs": [
    {
     "name": "stdout",
     "output_type": "stream",
     "text": [
      "[Epoch 1, Batch 100] loss: 2.101\n",
      "[Epoch 1, Batch 200] loss: 1.727\n",
      "[Epoch 1, Batch 300] loss: 1.557\n",
      "[Epoch 1, Batch 400] loss: 1.452\n",
      "[Epoch 1, Batch 500] loss: 1.377\n",
      "[Epoch 1, Batch 600] loss: 1.299\n",
      "[Epoch 1, Batch 700] loss: 1.255\n",
      "[Epoch 2, Batch 100] loss: 1.167\n",
      "[Epoch 2, Batch 200] loss: 1.117\n",
      "[Epoch 2, Batch 300] loss: 1.061\n",
      "[Epoch 2, Batch 400] loss: 1.059\n",
      "[Epoch 2, Batch 500] loss: 0.999\n",
      "[Epoch 2, Batch 600] loss: 1.052\n",
      "[Epoch 2, Batch 700] loss: 0.980\n",
      "[Epoch 3, Batch 100] loss: 0.868\n",
      "[Epoch 3, Batch 200] loss: 0.860\n",
      "[Epoch 3, Batch 300] loss: 0.836\n",
      "[Epoch 3, Batch 400] loss: 0.852\n",
      "[Epoch 3, Batch 500] loss: 0.838\n",
      "[Epoch 3, Batch 600] loss: 0.845\n",
      "[Epoch 3, Batch 700] loss: 0.819\n",
      "[Epoch 4, Batch 100] loss: 0.685\n",
      "[Epoch 4, Batch 200] loss: 0.695\n",
      "[Epoch 4, Batch 300] loss: 0.701\n",
      "[Epoch 4, Batch 400] loss: 0.671\n",
      "[Epoch 4, Batch 500] loss: 0.694\n",
      "[Epoch 4, Batch 600] loss: 0.668\n",
      "[Epoch 4, Batch 700] loss: 0.683\n",
      "[Epoch 5, Batch 100] loss: 0.518\n",
      "[Epoch 5, Batch 200] loss: 0.524\n",
      "[Epoch 5, Batch 300] loss: 0.525\n",
      "[Epoch 5, Batch 400] loss: 0.543\n",
      "[Epoch 5, Batch 500] loss: 0.555\n",
      "[Epoch 5, Batch 600] loss: 0.559\n",
      "[Epoch 5, Batch 700] loss: 0.549\n",
      "[Epoch 6, Batch 100] loss: 0.352\n",
      "[Epoch 6, Batch 200] loss: 0.361\n",
      "[Epoch 6, Batch 300] loss: 0.380\n",
      "[Epoch 6, Batch 400] loss: 0.411\n",
      "[Epoch 6, Batch 500] loss: 0.426\n",
      "[Epoch 6, Batch 600] loss: 0.419\n",
      "[Epoch 6, Batch 700] loss: 0.410\n",
      "[Epoch 7, Batch 100] loss: 0.229\n",
      "[Epoch 7, Batch 200] loss: 0.229\n",
      "[Epoch 7, Batch 300] loss: 0.263\n",
      "[Epoch 7, Batch 400] loss: 0.249\n",
      "[Epoch 7, Batch 500] loss: 0.277\n",
      "[Epoch 7, Batch 600] loss: 0.279\n",
      "[Epoch 7, Batch 700] loss: 0.298\n",
      "[Epoch 8, Batch 100] loss: 0.147\n",
      "[Epoch 8, Batch 200] loss: 0.144\n",
      "[Epoch 8, Batch 300] loss: 0.154\n",
      "[Epoch 8, Batch 400] loss: 0.167\n",
      "[Epoch 8, Batch 500] loss: 0.156\n",
      "[Epoch 8, Batch 600] loss: 0.174\n",
      "[Epoch 8, Batch 700] loss: 0.187\n",
      "[Epoch 9, Batch 100] loss: 0.088\n",
      "[Epoch 9, Batch 200] loss: 0.073\n",
      "[Epoch 9, Batch 300] loss: 0.107\n",
      "[Epoch 9, Batch 400] loss: 0.103\n",
      "[Epoch 9, Batch 500] loss: 0.097\n",
      "[Epoch 9, Batch 600] loss: 0.110\n",
      "[Epoch 9, Batch 700] loss: 0.134\n",
      "[Epoch 10, Batch 100] loss: 0.063\n",
      "[Epoch 10, Batch 200] loss: 0.060\n",
      "[Epoch 10, Batch 300] loss: 0.059\n",
      "[Epoch 10, Batch 400] loss: 0.060\n",
      "[Epoch 10, Batch 500] loss: 0.070\n",
      "[Epoch 10, Batch 600] loss: 0.066\n",
      "[Epoch 10, Batch 700] loss: 0.068\n",
      "Finished Training\n"
     ]
    }
   ],
   "source": [
    "#모델 초기화\n",
    "model = SimpleCNN()\n",
    "\n",
    "#손실 함수와 최적화 알고리즘 정의\n",
    "criterion = nn.CrossEntropyLoss()\n",
    "optimizer = optim.SGD(model.parameters(), lr=0.01, momentum=0.9)\n",
    "\n",
    "#모델 학습\n",
    "for epoch in range(10):  # 10 에포크 동안 학습\n",
    "    running_loss = 0.0\n",
    "    for i, data in enumerate(trainloader, 0):\n",
    "        inputs, labels = data\n",
    "\n",
    "        #기울기 초기화\n",
    "        optimizer.zero_grad()\n",
    "\n",
    "        #순전파 + 역전파 + 최적화\n",
    "        outputs = model(inputs)\n",
    "        loss = criterion(outputs, labels)\n",
    "        loss.backward()\n",
    "        optimizer.step()\n",
    "\n",
    "        #손실 출력\n",
    "        running_loss += loss.item()\n",
    "        if i % 100 == 99:  # 매 100 미니배치마다 출력\n",
    "            print(f'[Epoch {epoch + 1}, Batch {i + 1}] loss: {running_loss / 100:.3f}')\n",
    "            running_loss = 0.0\n",
    "\n",
    "print('Finished Training')"
   ]
  },
  {
   "cell_type": "code",
   "execution_count": 5,
   "metadata": {},
   "outputs": [
    {
     "name": "stdout",
     "output_type": "stream",
     "text": [
      "Accuracy of the network on the 10000 test images: 73.95%\n"
     ]
    }
   ],
   "source": [
    "correct = 0\n",
    "total = 0\n",
    "with torch.no_grad():\n",
    "    for data in testloader:\n",
    "        images, labels = data\n",
    "        outputs = model(images)\n",
    "        _, predicted = torch.max(outputs.data, 1)\n",
    "        total += labels.size(0)\n",
    "        correct += (predicted == labels).sum().item()\n",
    "\n",
    "print(f'Accuracy of the network on the 10000 test images: {100 * correct / total:.2f}%')\n"
   ]
  }
 ],
 "metadata": {
  "kernelspec": {
   "display_name": "Seok",
   "language": "python",
   "name": "seok"
  },
  "language_info": {
   "codemirror_mode": {
    "name": "ipython",
    "version": 3
   },
   "file_extension": ".py",
   "mimetype": "text/x-python",
   "name": "python",
   "nbconvert_exporter": "python",
   "pygments_lexer": "ipython3",
   "version": "3.11.1"
  }
 },
 "nbformat": 4,
 "nbformat_minor": 2
}
