{
 "cells": [
  {
   "cell_type": "code",
   "execution_count": 1,
   "metadata": {},
   "outputs": [],
   "source": [
    "import cv2\n",
    "from ultralytics import YOLO\n",
    "\n",
    "# YOLO 모델 로드 (원하는 모델 경로 지정)\n",
    "model = YOLO('yolov8n.pt')  # 예시: YOLOv8n 모델 사용"
   ]
  },
  {
   "cell_type": "code",
   "execution_count": 2,
   "metadata": {},
   "outputs": [
    {
     "name": "stdout",
     "output_type": "stream",
     "text": [
      "\n",
      "0: 384x640 1 person, 38.0ms\n",
      "Speed: 3.0ms preprocess, 38.0ms inference, 78.3ms postprocess per image at shape (1, 3, 384, 640)\n"
     ]
    }
   ],
   "source": [
    "# 이미지 불러오기\n",
    "image_path = 'D:\\OneDrive\\문서\\GitHub\\TIL\\DeepLearning\\Problems\\YOLO\\eunbin.jpg'  # 이미지 경로 지정\n",
    "img = cv2.imread(image_path)\n",
    "\n",
    "# 객체 탐지 수행\n",
    "results = model(img)\n",
    "\n",
    "# 결과 시각화 (바운딩 박스, 클래스 이름, 신뢰도)\n",
    "for result in results:\n",
    "    boxes = result.boxes\n",
    "    for box in boxes:\n",
    "        # 클래스, 신뢰도 정보 얻기\n",
    "        class_id = box.cls[0].item()  \n",
    "        confidence = box.conf[0].item()  \n",
    "\n",
    "        # 바운딩 박스 좌표 얻기\n",
    "        x1, y1, x2, y2 = box.xyxy[0].tolist()  \n",
    "\n",
    "        # 바운딩 박스 및 정보 그리기\n",
    "        cv2.rectangle(img, (int(x1), int(y1)), (int(x2), int(y2)), (0, 255, 0), 2)  # 초록색 박스\n",
    "        label = f\"{model.names[class_id]}: {confidence:.2f}\"\n",
    "        cv2.putText(img, label, (int(x1), int(y1 - 10)), cv2.FONT_HERSHEY_SIMPLEX, 0.5, (0, 255, 0), 2)"
   ]
  }
 ],
 "metadata": {
  "kernelspec": {
   "display_name": "Seok",
   "language": "python",
   "name": "seok"
  },
  "language_info": {
   "codemirror_mode": {
    "name": "ipython",
    "version": 3
   },
   "file_extension": ".py",
   "mimetype": "text/x-python",
   "name": "python",
   "nbconvert_exporter": "python",
   "pygments_lexer": "ipython3",
   "version": "3.11.1"
  }
 },
 "nbformat": 4,
 "nbformat_minor": 2
}
