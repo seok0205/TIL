{
 "cells": [
  {
   "cell_type": "code",
   "execution_count": 1,
   "metadata": {},
   "outputs": [],
   "source": [
    "from sklearn.ensemble import BaggingRegressor\n",
    "from sklearn.tree import DecisionTreeRegressor\n",
    "from sklearn.metrics import mean_squared_error\n",
    "from sklearn.datasets import load_breast_cancer\n",
    "from sklearn.model_selection import train_test_split\n",
    "from sklearn.preprocessing import StandardScaler\n",
    "\n",
    "#유방암 데이터 로드\n",
    "cancer_data = load_breast_cancer()\n",
    "X, y = cancer_data.data, cancer_data.target\n",
    "\n",
    "#데이터 분할\n",
    "X_train, X_test, y_train, y_test = train_test_split(X, y, test_size=0.2, random_state=42)\n",
    "\n",
    "#데이터 스케일링\n",
    "scaler = StandardScaler()\n",
    "X_train_scaled = scaler.fit_transform(X_train)\n",
    "X_test_scaled = scaler.transform(X_test)"
   ]
  },
  {
   "cell_type": "code",
   "execution_count": 2,
   "metadata": {},
   "outputs": [],
   "source": [
    "\n",
    "#배깅 모델 생성\n",
    "bagging_model = BaggingRegressor(estimator=DecisionTreeRegressor(), n_estimators=100, random_state=42)\n",
    "\n",
    "#모델 학습\n",
    "bagging_model.fit(X_train_scaled, y_train)\n",
    "\n",
    "#예측\n",
    "y_pred_bagging = bagging_model.predict(X_test_scaled)"
   ]
  },
  {
   "cell_type": "code",
   "execution_count": 3,
   "metadata": {},
   "outputs": [
    {
     "name": "stdout",
     "output_type": "stream",
     "text": [
      "배깅 모델의 MSE: 0.03204298245614035\n"
     ]
    }
   ],
   "source": [
    "#평가\n",
    "mse_bagging = mean_squared_error(y_test, y_pred_bagging)\n",
    "print(f'배깅 모델의 MSE: {mse_bagging}')"
   ]
  },
  {
   "cell_type": "markdown",
   "metadata": {},
   "source": [
    "MSE : 평균제곱오차  \n",
    "오차의 제곱을 평균으로 나눈 것.(예측값 - 실제값의 제곱(면적)의 평균)\n",
    "회귀에서 자주 사용되는 손실 함수, 0에 가까울 수록 원본과 비슷하다는 지표.  \n",
    "하지만 1보다 클 때 급격히 커지므로 왜곡의 가능성이 있음.  "
   ]
  }
 ],
 "metadata": {
  "kernelspec": {
   "display_name": "Seok",
   "language": "python",
   "name": "seok"
  },
  "language_info": {
   "codemirror_mode": {
    "name": "ipython",
    "version": 3
   },
   "file_extension": ".py",
   "mimetype": "text/x-python",
   "name": "python",
   "nbconvert_exporter": "python",
   "pygments_lexer": "ipython3",
   "version": "3.11.1"
  }
 },
 "nbformat": 4,
 "nbformat_minor": 2
}
