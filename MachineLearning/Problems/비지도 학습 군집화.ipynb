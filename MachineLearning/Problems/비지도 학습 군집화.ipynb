{
 "cells": [
  {
   "cell_type": "code",
   "execution_count": 1,
   "metadata": {},
   "outputs": [],
   "source": [
    "import pandas as pd\n",
    "from sklearn.model_selection import train_test_split\n",
    "from sklearn.impute import SimpleImputer\n",
    "\n",
    "# 데이터 로드\n",
    "train_data = pd.read_csv('https://raw.githubusercontent.com/datasciencedojo/datasets/master/titanic.csv')\n",
    "\n",
    "df = train_data[['Survived', 'Pclass', 'Age', 'SibSp', 'Parch', 'Fare']]\n",
    "df = df.dropna()\n",
    "\n",
    "# 레이블 분리\n",
    "y = df['Survived']\n",
    "df = df.drop('Survived', axis=1)"
   ]
  },
  {
   "cell_type": "markdown",
   "metadata": {},
   "source": [
    "데이터 로드 및 전처리 : 필요한 열 선택후 결측값 처리."
   ]
  },
  {
   "cell_type": "code",
   "execution_count": 2,
   "metadata": {},
   "outputs": [],
   "source": [
    "from sklearn.cluster import KMeans\n",
    "\n",
    "# KMeans 모델 초기화 (군집 수 2로 설정)\n",
    "kmeans = KMeans(n_clusters=2, random_state=42)\n",
    "\n",
    "# 모델 적합\n",
    "kmeans.fit(df)\n",
    "\n",
    "# 군집 예측\n",
    "clusters = kmeans.predict(df)"
   ]
  },
  {
   "cell_type": "markdown",
   "metadata": {},
   "source": [
    "비지도 학습 기법 : K-Means.  \n",
    "k로 군집수 설정 가능, 계산 빠르고 직관적. 군집 수 2로 고정."
   ]
  },
  {
   "cell_type": "code",
   "execution_count": 3,
   "metadata": {},
   "outputs": [
    {
     "name": "stdout",
     "output_type": "stream",
     "text": [
      "Adjusted Rand Index: 0.03929870370135212\n",
      "Homogeneity: 0.026026523392495605\n",
      "Completeness: 0.07134214091774442\n"
     ]
    }
   ],
   "source": [
    "from sklearn.metrics import adjusted_rand_score, homogeneity_score, completeness_score\n",
    "\n",
    "# 평가 지표 계산\n",
    "ari = adjusted_rand_score(y, clusters)\n",
    "homogeneity = homogeneity_score(y, clusters)\n",
    "completeness = completeness_score(y, clusters)\n",
    "\n",
    "print(f\"Adjusted Rand Index: {ari}\")\n",
    "print(f\"Homogeneity: {homogeneity}\")\n",
    "print(f\"Completeness: {completeness}\")\n"
   ]
  },
  {
   "cell_type": "markdown",
   "metadata": {},
   "source": [
    "여러 지표 활용하여 군집화 결과 평가.  \n",
    "ARI는 레이블 값과 예측된 군집 간 유사성을 측정한다.  \n",
    "Homogeneity는 동일 군집 내 데이터 포인트가 동일 레이블을 가질 확률.  \n",
    "Completeness는 동일 레이블을 가진 데이터 포인트가 동일 군집에 속할 확률."
   ]
  }
 ],
 "metadata": {
  "kernelspec": {
   "display_name": "Seok",
   "language": "python",
   "name": "seok"
  },
  "language_info": {
   "codemirror_mode": {
    "name": "ipython",
    "version": 3
   },
   "file_extension": ".py",
   "mimetype": "text/x-python",
   "name": "python",
   "nbconvert_exporter": "python",
   "pygments_lexer": "ipython3",
   "version": "3.11.1"
  }
 },
 "nbformat": 4,
 "nbformat_minor": 2
}
