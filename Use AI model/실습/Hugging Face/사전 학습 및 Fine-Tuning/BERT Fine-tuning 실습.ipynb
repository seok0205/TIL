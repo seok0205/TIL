{
 "cells": [
  {
   "cell_type": "markdown",
   "metadata": {},
   "source": [
    "# IMDb 데이터셋을 활용한 BERT Fine-tuning 실습\n",
    "\n",
    "- 파인 튜닝된 모델 활용해 리뷰의 감정을 예측 가능. BERT 모델을 특정 작업에 맞고 조정, 그 성능을 확인 가능하다.\n",
    "\n",
    "## 필요 라이브러리 설치 및 임포트\n",
    "\n",
    "1. 필요 라이브러리 설치\n",
    "```\n",
    "pip install transformers datasets torch\n",
    "pip isntall accelerate -U\n",
    "```\n",
    "\n",
    "2. 라이브러리 임포트"
   ]
  },
  {
   "cell_type": "code",
   "execution_count": 1,
   "metadata": {},
   "outputs": [
    {
     "name": "stderr",
     "output_type": "stream",
     "text": [
      "c:\\Users\\By the book\\AppData\\Local\\Programs\\Python\\Python311\\Lib\\site-packages\\tqdm\\auto.py:21: TqdmWarning: IProgress not found. Please update jupyter and ipywidgets. See https://ipywidgets.readthedocs.io/en/stable/user_install.html\n",
      "  from .autonotebook import tqdm as notebook_tqdm\n"
     ]
    }
   ],
   "source": [
    "from transformers import BertTokenizer, BertForSequenceClassification, Trainer, TrainingArguments\n",
    "from datasets import load_dataset\n",
    "import torch"
   ]
  },
  {
   "cell_type": "markdown",
   "metadata": {},
   "source": [
    "## IMDb dataset load\n",
    "\n",
    "- datasets 라이브러리를 사용, IMDb 영화 리뷰 데이터셋 로드."
   ]
  },
  {
   "cell_type": "code",
   "execution_count": 2,
   "metadata": {},
   "outputs": [],
   "source": [
    "# IMDb 데이터셋 로드\n",
    "dataset = load_dataset(\"imdb\")\n",
    "\n",
    "# 훈련 및 테스트 데이터셋 분리\n",
    "train_dataset = dataset['train'].shuffle(seed=42).select(range(1000))  # 1000개 샘플로 축소\n",
    "test_dataset = dataset['test'].shuffle(seed=42).select(range(500))  # 500개 샘플로 축소"
   ]
  },
  {
   "cell_type": "markdown",
   "metadata": {},
   "source": [
    "## 데이터 전처리 및 토크나이저 적용\n",
    "\n",
    "- BERT 모델에 맞게 데이터를 토큰화."
   ]
  },
  {
   "cell_type": "code",
   "execution_count": 3,
   "metadata": {},
   "outputs": [],
   "source": [
    "# BERT 토크나이저 로드\n",
    "tokenizer = BertTokenizer.from_pretrained('bert-base-uncased')\n",
    "\n",
    "# 데이터셋 토크나이징 함수 정의\n",
    "def tokenize_function(examples):\n",
    "    return tokenizer(examples['text'], padding=\"max_length\", truncation=True)\n",
    "\n",
    "# 데이터셋 토크나이징 적용\n",
    "train_dataset = train_dataset.map(tokenize_function, batched=True)\n",
    "test_dataset = test_dataset.map(tokenize_function, batched=True)\n",
    "\n",
    "# 모델 입력으로 사용하기 위해 데이터셋 포맷 설정\n",
    "train_dataset.set_format(type='torch', columns=['input_ids', 'attention_mask', 'label'])\n",
    "test_dataset.set_format(type='torch', columns=['input_ids', 'attention_mask', 'label'])"
   ]
  },
  {
   "cell_type": "markdown",
   "metadata": {},
   "source": [
    "## BERT 모델 로드 및 Fine-tuning\n",
    "\n",
    "- 사전 학습된 BERT 모델을 로드, IMDb 데이터셋을 사용해 Fine-tuning 진행."
   ]
  },
  {
   "cell_type": "code",
   "execution_count": 5,
   "metadata": {},
   "outputs": [
    {
     "name": "stderr",
     "output_type": "stream",
     "text": [
      "Some weights of BertForSequenceClassification were not initialized from the model checkpoint at bert-base-uncased and are newly initialized: ['classifier.bias', 'classifier.weight']\n",
      "You should probably TRAIN this model on a down-stream task to be able to use it for predictions and inference.\n",
      "                                                  \n",
      " 33%|███▎      | 125/375 [27:20<47:40, 11.44s/it]"
     ]
    },
    {
     "name": "stdout",
     "output_type": "stream",
     "text": [
      "{'eval_loss': 0.40655940771102905, 'eval_runtime': 182.1555, 'eval_samples_per_second': 2.745, 'eval_steps_per_second': 0.346, 'epoch': 1.0}\n"
     ]
    },
    {
     "name": "stderr",
     "output_type": "stream",
     "text": [
      "                                                   \n",
      " 67%|██████▋   | 250/375 [52:07<21:27, 10.30s/it]"
     ]
    },
    {
     "name": "stdout",
     "output_type": "stream",
     "text": [
      "{'eval_loss': 0.3735009729862213, 'eval_runtime': 163.0, 'eval_samples_per_second': 3.067, 'eval_steps_per_second': 0.387, 'epoch': 2.0}\n"
     ]
    },
    {
     "name": "stderr",
     "output_type": "stream",
     "text": [
      "                                                   \n",
      "100%|██████████| 375/375 [1:16:03<00:00, 12.17s/it]\n"
     ]
    },
    {
     "name": "stdout",
     "output_type": "stream",
     "text": [
      "{'eval_loss': 0.4672318696975708, 'eval_runtime': 162.91, 'eval_samples_per_second': 3.069, 'eval_steps_per_second': 0.387, 'epoch': 3.0}\n",
      "{'train_runtime': 4563.0182, 'train_samples_per_second': 0.657, 'train_steps_per_second': 0.082, 'train_loss': 0.3016983846028646, 'epoch': 3.0}\n"
     ]
    },
    {
     "name": "stderr",
     "output_type": "stream",
     "text": [
      "100%|██████████| 63/63 [02:39<00:00,  2.53s/it]\n"
     ]
    },
    {
     "data": {
      "text/plain": [
       "{'eval_loss': 0.4672318696975708,\n",
       " 'eval_runtime': 161.759,\n",
       " 'eval_samples_per_second': 3.091,\n",
       " 'eval_steps_per_second': 0.389,\n",
       " 'epoch': 3.0}"
      ]
     },
     "execution_count": 5,
     "metadata": {},
     "output_type": "execute_result"
    }
   ],
   "source": [
    "# BERT 모델 로드\n",
    "model = BertForSequenceClassification.from_pretrained('bert-base-uncased', num_labels=2)\n",
    "\n",
    "# 훈련 인자 설정\n",
    "training_args = TrainingArguments(\n",
    "    output_dir='./results',\n",
    "    num_train_epochs=3,\n",
    "    per_device_train_batch_size=8,\n",
    "    per_device_eval_batch_size=8,\n",
    "    evaluation_strategy=\"epoch\",\n",
    "    save_steps=10_000,\n",
    "    save_total_limit=2,\n",
    ")\n",
    "\n",
    "# 트레이너 설정\n",
    "trainer = Trainer(\n",
    "    model=model,\n",
    "    args=training_args,\n",
    "    train_dataset=train_dataset,\n",
    "    eval_dataset=test_dataset,\n",
    ")\n",
    "\n",
    "# 모델 훈련\n",
    "trainer.train()\n",
    "trainer.evaluate()"
   ]
  },
  {
   "cell_type": "markdown",
   "metadata": {},
   "source": [
    "## 모델 평가 및 결과 확인\n",
    "\n",
    "- Fine-tuning이 완료된 모델을 사용해 테스트 데이터셋으로 성능 평가."
   ]
  },
  {
   "cell_type": "code",
   "execution_count": 6,
   "metadata": {},
   "outputs": [
    {
     "name": "stderr",
     "output_type": "stream",
     "text": [
      "100%|██████████| 63/63 [02:43<00:00,  2.59s/it]"
     ]
    },
    {
     "name": "stdout",
     "output_type": "stream",
     "text": [
      "Accuracy: 0.8980\n"
     ]
    },
    {
     "name": "stderr",
     "output_type": "stream",
     "text": [
      "\n"
     ]
    }
   ],
   "source": [
    "import numpy as np\n",
    "from sklearn.metrics import accuracy_score\n",
    "\n",
    "# 평가 지표 함수 정의\n",
    "def compute_metrics(p):\n",
    "    preds = np.argmax(p.predictions, axis=1)  # 예측된 클래스\n",
    "    labels = p.label_ids  # 실제 레이블\n",
    "    acc = accuracy_score(labels, preds)  # 정확도 계산\n",
    "    return {'accuracy': acc}\n",
    "\n",
    "# 이미 훈련된 트레이너에 compute_metrics를 추가하여 평가\n",
    "trainer.compute_metrics = compute_metrics\n",
    "\n",
    "# 모델 평가 및 정확도 확인\n",
    "eval_result = trainer.evaluate()\n",
    "print(f\"Accuracy: {eval_result['eval_accuracy']:.4f}\")"
   ]
  },
  {
   "cell_type": "markdown",
   "metadata": {},
   "source": [
    "## 새 리뷰 예측 해보기\n",
    "\n",
    "- 새 리뷰를 토큰화해서 BERT 모델의 입력 형식으로 변환 후 예측값 반환."
   ]
  },
  {
   "cell_type": "code",
   "execution_count": 7,
   "metadata": {},
   "outputs": [
    {
     "name": "stdout",
     "output_type": "stream",
     "text": [
      "Prediction: Positive\n"
     ]
    }
   ],
   "source": [
    "def predict_review(review_text):\n",
    "    # 입력 텍스트 토큰화\n",
    "    inputs = tokenizer(review_text, return_tensors=\"pt\", padding=\"max_length\", truncation=True, max_length=512)\n",
    "\n",
    "    # 모델 예측 수행\n",
    "    with torch.no_grad():\n",
    "        outputs = model(**inputs)\n",
    "    \n",
    "    # 소프트맥스 함수 적용 후 예측값 계산\n",
    "    probs = torch.softmax(outputs.logits, dim=1)\n",
    "    pred_label = torch.argmax(probs, dim=1).item()\n",
    "    \n",
    "    # 예측 결과 반환 (0: 부정, 1: 긍정)\n",
    "    return \"Positive\" if pred_label == 1 else \"Negative\"\n",
    "\n",
    "# 리뷰에 대한 예측\n",
    "sample_review = \"The movie was incredibly interesting and kept me on the edge of my seat!\"\n",
    "print(\"Prediction:\", predict_review(sample_review))"
   ]
  }
 ],
 "metadata": {
  "kernelspec": {
   "display_name": "Seok",
   "language": "python",
   "name": "seok"
  },
  "language_info": {
   "codemirror_mode": {
    "name": "ipython",
    "version": 3
   },
   "file_extension": ".py",
   "mimetype": "text/x-python",
   "name": "python",
   "nbconvert_exporter": "python",
   "pygments_lexer": "ipython3",
   "version": "3.11.1"
  }
 },
 "nbformat": 4,
 "nbformat_minor": 2
}
