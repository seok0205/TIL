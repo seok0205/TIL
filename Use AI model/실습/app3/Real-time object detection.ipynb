{
 "cells": [
  {
   "cell_type": "markdown",
   "metadata": {},
   "source": [
    "## 실시간 객체 탐지 시스템 구현\n",
    "\n",
    "- OpenCV, YOLO 활용한 실시간 객체 탐지 서비스 제작.\n",
    "\n",
    "- 패키지 설치\n",
    "\n",
    "    ```shell\n",
    "    pip install pyqt5 cv2 ultralytics\n",
    "    ```\n",
    "\n",
    "1. __필수 라이브러리 임포트__\n",
    "\n",
    "- YOLO : YOLOv8 객체 탐지 모델\n",
    "- cv2 : OpenCV 라이브러리, 영상처리 및 웹캠 제어\n",
    "- PyQt5 : GUI 생성, 웹캠 시작과 중지 버튼 추가"
   ]
  },
  {
   "cell_type": "code",
   "execution_count": 1,
   "metadata": {},
   "outputs": [],
   "source": [
    "from ultralytics import YOLO\n",
    "import cv2\n",
    "from PyQt5.QtWidgets import QApplication, QLabel, QVBoxLayout, QWidget, QPushButton\n",
    "from PyQt5.QtCore import QTimer\n",
    "from PyQt5.QtGui import QImage, QPixmap"
   ]
  },
  {
   "cell_type": "markdown",
   "metadata": {},
   "source": [
    "2. __VideoCaptureWidget 클래스 생성__\n",
    "\n",
    "- 클래스 상속 : PyQt5의 QWidget을 상속받아 GUI창으로 활용\n",
    "- 모델 로드 : YOLO  객체를 yolov8x.pt 모델 파일로 초기화"
   ]
  },
  {
   "cell_type": "code",
   "execution_count": 2,
   "metadata": {},
   "outputs": [],
   "source": [
    "class VideoCaptureWidget(QWidget):\n",
    "    def __init__(self):\n",
    "        super().__init__()\n",
    "\n",
    "        # YOLOv8x 모델 로드 (YOLOv8x)\n",
    "        self.model = YOLO('yolov8x.pt')\n",
    "\n",
    "         # 3. UI 설정\n",
    "        self.setWindowTitle(\"실시간 객체 탐지\") # 창 제목\n",
    "        self.image_label = QLabel(self) # 객체 탐지된 웹캠 화면을 표시할 QLabel 설정\n",
    "        self.layout = QVBoxLayout()\n",
    "        self.layout.addWidget(self.image_label)\n",
    "\n",
    "        self.start_button = QPushButton(\"Start Webcam\", self)   # start 버튼 생성.\n",
    "        self.start_button.clicked.connect(self.start_webcam)    # 클릭 시 5. star_webcam 호출\n",
    "        self.layout.addWidget(self.start_button)\n",
    "\n",
    "        self.stop_button = QPushButton(\"Stop Webcam\", self) # stop 버튼 생성.\n",
    "        self.stop_button.clicked.connect(self.stop_webcam)  # 클릭 시 stop_webcam 호출\n",
    "        self.layout.addWidget(self.stop_button)\n",
    "        self.setLayout(self.layout)\n",
    "\n",
    "        # 4. 웹캠 초기화\n",
    "        self.capture = None\n",
    "        self.timer = QTimer(self)   # 타이머 설정. 주기적인 화면 업데이트\n",
    "        self.timer.timeout.connect(self.update_frame)   # update_frame 함수 연결.\n",
    "\n",
    "    # 5. star_webcam 함수 - 웹캠 시작\n",
    "    def start_webcam(self):\n",
    "        \"\"\"웹캠을 시작하고, 타이머를 시작하여 프레임을 주기적으로 읽음\"\"\"\n",
    "        self.capture = cv2.VideoCapture(0)  # 웹캠 장치 열기\n",
    "        self.timer.start(20)  # 20ms마다 프레임 업데이트 (50fps)\n",
    "\n",
    "    # 6. stop_webcam 함수 - 웹캠 중지\n",
    "    def stop_webcam(self):\n",
    "        \"\"\"웹캠을 중지하고 타이머를 멈춤\"\"\"\n",
    "        self.timer.stop()   # 프레임 업데이트 중지\n",
    "        if self.capture is not None:\n",
    "            self.capture.release()  # 웹캠 해제\n",
    "\n",
    "    # 7. update_frame - 객체 탐지 및 UI 업데이트\n",
    "    def update_frame(self):\n",
    "        \"\"\"웹캠에서 프레임을 읽어와서 YOLO 객체 탐지를 수행한 후 UI에 표시\"\"\"\n",
    "        ret, frame = self.capture.read()    # 캠에서 프레임 읽어오기\n",
    "        if ret:\n",
    "            # YOLOv8 객체 탐지 수행\n",
    "            results = self.model(frame)\n",
    "            result = results[0]\n",
    "\n",
    "            # 바운딩 박스가 포함된 이미지를 가져옴\n",
    "            img_with_boxes = result.plot()\n",
    "\n",
    "            # OpenCV 이미지를 QImage로 변환\n",
    "            rgb_image = cv2.cvtColor(img_with_boxes, cv2.COLOR_BGR2RGB)\n",
    "            h, w, ch = rgb_image.shape\n",
    "            bytes_per_line = ch * w\n",
    "            convert_to_Qt_format = QImage(rgb_image.data, w, h, bytes_per_line, QImage.Format_RGB888)\n",
    "\n",
    "            # QImage를 QLabel에 표시하기 위해 QPixmap으로 변환\n",
    "            self.image_label.setPixmap(QPixmap.fromImage(convert_to_Qt_format))\n",
    "    \n",
    "    # 8. closeEvent - 프로그램 종료 시 자원 해제\n",
    "    def closeEvent(self, event):\n",
    "        \"\"\"윈도우 닫을 때 웹캠 해제\"\"\"\n",
    "        if self.capture is not None:\n",
    "            self.capture.release()\n"
   ]
  },
  {
   "cell_type": "markdown",
   "metadata": {},
   "source": [
    "9. __메인 실행부__"
   ]
  },
  {
   "cell_type": "code",
   "execution_count": null,
   "metadata": {},
   "outputs": [],
   "source": [
    "if __name__ == \"__main__\":\n",
    "    app = QApplication([])  # PyQt5 GUI 앱 실행. VideoCaptureWidget 객체를 띄움.\n",
    "    window = VideoCaptureWidget()\n",
    "    window.show()\n",
    "    app.exec_() # 앱 종료. GUI의 이벤트 루프 실행."
   ]
  },
  {
   "cell_type": "markdown",
   "metadata": {},
   "source": [
    "### 결과\n",
    "\n",
    "- 실행 화면  \n",
    "![실행1](./app3-1.JPG)\n",
    "- 웹캠 실행 후 탐지\n",
    "![실행2](./app3-2.JPG)"
   ]
  }
 ],
 "metadata": {
  "kernelspec": {
   "display_name": "Seok",
   "language": "python",
   "name": "seok"
  },
  "language_info": {
   "codemirror_mode": {
    "name": "ipython",
    "version": 3
   },
   "file_extension": ".py",
   "mimetype": "text/x-python",
   "name": "python",
   "nbconvert_exporter": "python",
   "pygments_lexer": "ipython3",
   "version": "3.11.1"
  }
 },
 "nbformat": 4,
 "nbformat_minor": 2
}
